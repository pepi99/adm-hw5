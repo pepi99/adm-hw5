{
 "cells": [
  {
   "cell_type": "markdown",
   "metadata": {},
   "source": [
    "# Homework 5 - Exploring StackOverflow!"
   ]
  },
  {
   "cell_type": "markdown",
   "metadata": {},
   "source": [
    "## 1. Data"
   ]
  },
  {
   "cell_type": "code",
   "execution_count": 3,
   "metadata": {},
   "outputs": [],
   "source": [
    "import sys\n",
    "sys.path.append('/home/petar/Documents/PythonUniProjects/adm-hw5/venv/lib/python3.8/site-packages')"
   ]
  },
  {
   "cell_type": "code",
   "execution_count": 4,
   "metadata": {},
   "outputs": [],
   "source": [
    "# First, import required libraries\n",
    "import pandas as pd\n",
    "import networkx as nx\n",
    "import matplotlib.pyplot as plt\n",
    "import numpy as np\n",
    "from queue import PriorityQueue\n",
    "from networkx.algorithms.dag import dag_longest_path\n",
    "from tabulate import tabulate\n",
    "import seaborn as sns"
   ]
  },
  {
   "cell_type": "markdown",
   "metadata": {},
   "source": [
    "The first step, as always, is to download the data we will be working on. We downloaded the 3 files which contains : \n",
    "\n",
    "['Answers to questions', 'Comments to questions', 'Comments to answers']"
   ]
  },
  {
   "cell_type": "code",
   "execution_count": 5,
   "metadata": {},
   "outputs": [],
   "source": [
    "df1 = pd.read_csv('sx-stackoverflow-a2q.txt', nrows=10000, header=None)\n",
    "df2 = pd.read_csv('sx-stackoverflow-c2q.txt', nrows=10000, header=None)\n",
    "df3 = pd.read_csv('sx-stackoverflow-c2a.txt', nrows=10000, header=None)"
   ]
  },
  {
   "cell_type": "code",
   "execution_count": 6,
   "metadata": {},
   "outputs": [],
   "source": [
    "def expand_column(df):\n",
    "    \"\"\"\n",
    "\n",
    "    :param df: dataframe\n",
    "    :return: df with different columns for each value for the rows\n",
    "    \"\"\"\n",
    "    df = pd.concat([df[[0]], df[0].str.split(' ', expand=True)], axis=1)\n",
    "    df.columns = ['N', 'u1', 'u2', 't']\n",
    "    df = df.drop('N', axis=1)\n",
    "    df.loc[:, 'u1'] = df.loc[:, 'u1']\n",
    "    df.loc[:, 'u2'] = df.loc[:, 'u2']\n",
    "    return df"
   ]
  },
  {
   "cell_type": "code",
   "execution_count": 7,
   "metadata": {},
   "outputs": [],
   "source": [
    "def draw_graph(G):\n",
    "    \"\"\"\n",
    "\n",
    "    :param G: Graph\n",
    "    :return: draws the graph\n",
    "    \"\"\"\n",
    "    pos = nx.spring_layout(G)\n",
    "    nx.draw_networkx(G, pos)\n",
    "    # nx.draw_networkx_edge_labels(G, pos)\n",
    "    plt.show()\n",
    "    # pass\n"
   ]
  },
  {
   "cell_type": "code",
   "execution_count": 9,
   "metadata": {},
   "outputs": [],
   "source": [
    "def get_edge_labels(G):\n",
    "    edge_labels = {}\n",
    "    for u, v, e in G.edges(data=True):\n",
    "        edge_labels[(u, v)] = e['type']\n",
    "    return edge_labels"
   ]
  },
  {
   "cell_type": "code",
   "execution_count": 8,
   "metadata": {},
   "outputs": [],
   "source": [
    "df1 = expand_column(df1)\n",
    "df1['type'] = 'a'  # User answers user q\n",
    "df2 = expand_column(df2)\n",
    "df2['type'] = 'c_q'  # User comments user q\n",
    "df3 = expand_column(df3)\n",
    "df3['type'] = 'c_a'  # User comments user a\n",
    "frames = [df1, df2, df3]"
   ]
  },
  {
   "cell_type": "code",
   "execution_count": 10,
   "metadata": {},
   "outputs": [],
   "source": [
    "df = pd.concat(frames)  # Merge them\n",
    "\n",
    "G1 = nx.DiGraph()  # Create directed graph\n",
    "# connections = {}\n",
    "structure = []  # Needed to create the graph with the edges (networkx accepts it that way)\n",
    "\n",
    "for u1, u2, *_ in df.values:\n",
    "    structure.append((u1, u2))\n",
    "\n",
    "G1.add_edges_from(structure)"
   ]
  },
  {
   "cell_type": "code",
   "execution_count": 11,
   "metadata": {},
   "outputs": [],
   "source": [
    "for u1, u2, t, type, *_ in df.values:  # To add the timestamps and types, we do the following: for each pair, if already encountered, add the new timestamp and type to the existing array, otherwise: initialize the array with the current timestamp/type of connection\n",
    "    edge_attributes = G1[u1][u2]\n",
    "    if 'type' not in edge_attributes.keys():\n",
    "        G1[u1][u2]['type'] = [type]  # Initialize only 1 type in the array\n",
    "    else:\n",
    "        G1[u1][u2]['type'].append(type)  # If it has been visited, add the type to the existing array\n",
    "    if 't' not in edge_attributes.keys():\n",
    "        G1[u1][u2]['t'] = [t]  # Same logic for the timestamp\n",
    "    else:\n",
    "        G1[u1][u2]['t'].append(t)  # Same logic\n",
    "    if 'weight' not in edge_attributes.keys():\n",
    "        G1[u1][u2]['weight'] = 1  # Also increase the weights\n",
    "    else:\n",
    "        G1[u1][u2]['weight'] += 1"
   ]
  },
  {
   "cell_type": "code",
   "execution_count": 12,
   "metadata": {},
   "outputs": [],
   "source": [
    "G = nx.from_pandas_edgelist(df, 'u1', 'u2', ['t', 'type'], create_using=nx.DiGraph())\n",
    "edge_labels = get_edge_labels(G)\n",
    "#draw_graph(G1)"
   ]
  },
  {
   "cell_type": "markdown",
   "metadata": {},
   "source": [
    "## 2. Implementation of the backend"
   ]
  },
  {
   "cell_type": "markdown",
   "metadata": {},
   "source": [
    "### Functionality 1 - Get the overall features of the graph\n",
    "\n",
    "**The output should return:**\n",
    "\n",
    "- Whether the graph is directed or not\n",
    "- Number of users\n",
    "- Number of answers/comments\n",
    "- Average number of links per user\n",
    "- Density degree of the graph\n",
    "- Whether the graph is sparse or dense"
   ]
  },
  {
   "cell_type": "code",
   "execution_count": 13,
   "metadata": {},
   "outputs": [
    {
     "data": {
      "text/plain": [
       "False"
      ]
     },
     "execution_count": 13,
     "metadata": {},
     "output_type": "execute_result"
    }
   ],
   "source": [
    "def is_undirected(G):\n",
    "    nodes = G.edges()\n",
    "    for pair in nodes:\n",
    "        u1 = pair[0]\n",
    "        u2 = pair[1]\n",
    "        reverse_pair = (u2, u1)\n",
    "        if reverse_pair not in nodes:  # This means that the reverse edge (u2, u1) is not in the edge list, \n",
    "            return False # we only have one direction. This means that this graph is not undirected.  \n",
    "    return True\n",
    "is_undirected(G)"
   ]
  },
  {
   "cell_type": "code",
   "execution_count": 14,
   "metadata": {},
   "outputs": [
    {
     "data": {
      "text/plain": [
       "6858"
      ]
     },
     "execution_count": 14,
     "metadata": {},
     "output_type": "execute_result"
    }
   ],
   "source": [
    "def num_of_users(G):\n",
    "    users_1 = [u[0] for u in G.edges(data=True)]\n",
    "    users_2 = [u[1] for u in G.edges(data=True)]\n",
    "    num_of_user = len(set(users_1 + users_2)) # We used \"set\" to get unique values\n",
    "    return num_of_user\n",
    "num_of_users(G)"
   ]
  },
  {
   "cell_type": "code",
   "execution_count": 15,
   "metadata": {},
   "outputs": [
    {
     "data": {
      "text/plain": [
       "8782"
      ]
     },
     "execution_count": 15,
     "metadata": {},
     "output_type": "execute_result"
    }
   ],
   "source": [
    "def num_of_answers(G):\n",
    "    answers = [a[2]['type'] for a in G.edges(data=True) if str(a[2]['type']).startswith('a')]\n",
    "    num_of_answer = len(answers)\n",
    "    return num_of_answer\n",
    "num_of_answers(G)"
   ]
  },
  {
   "cell_type": "code",
   "execution_count": 16,
   "metadata": {},
   "outputs": [
    {
     "data": {
      "text/plain": [
       "16256"
      ]
     },
     "execution_count": 16,
     "metadata": {},
     "output_type": "execute_result"
    }
   ],
   "source": [
    "def num_of_comments(G):\n",
    "    list1 = [list(c[2].values()) for c in G.edges(data=True)]\n",
    "    comments = [c[1] for c in list1 if str(c[1]).startswith('c')]\n",
    "    num_of_comment = len(comments)\n",
    "    return  num_of_comment\n",
    "num_of_comments(G)"
   ]
  },
  {
   "cell_type": "code",
   "execution_count": 17,
   "metadata": {},
   "outputs": [
    {
     "data": {
      "text/plain": [
       "7.301837270341207"
      ]
     },
     "execution_count": 17,
     "metadata": {},
     "output_type": "execute_result"
    }
   ],
   "source": [
    "def Avg_links_per_user(G):\n",
    "    user_links={}\n",
    "    users_1 = [u[0] for u in G.edges(data=True)]\n",
    "    users_2 = [u[1] for u in G.edges(data=True)]\n",
    "    users= users_1 + users_2\n",
    "    for u in users:\n",
    "        if u in user_links.keys():\n",
    "            user_links[u]+=1\n",
    "        else:\n",
    "            user_links[u]=1\n",
    "    return np.mean(list(user_links.values()))\n",
    "                   \n",
    "Avg_links_per_user(G) "
   ]
  },
  {
   "cell_type": "markdown",
   "metadata": {},
   "source": [
    "   In the paper of \"The authors followed E. Lawler (1976), Combinatorial Optimization: Networks and Matroids\", we can see that the definition of density is,\n",
    "\n",
    "   While for directed simple graphs, where |E| is the number of edges and |V| is the number of vertices in the graph the graph density is defined as :\n",
    "\n",
    "**Maximum Number of Edges = num_nodes * (num_nodes - 1)**\n",
    "\n",
    "**D = E / V * (V-1)**"
   ]
  },
  {
   "cell_type": "code",
   "execution_count": 18,
   "metadata": {},
   "outputs": [
    {
     "data": {
      "text/plain": [
       "0.0005324367267275198"
      ]
     },
     "execution_count": 18,
     "metadata": {},
     "output_type": "execute_result"
    }
   ],
   "source": [
    "den= nx.density(G)\n",
    "den"
   ]
  },
  {
   "cell_type": "code",
   "execution_count": 19,
   "metadata": {},
   "outputs": [
    {
     "data": {
      "text/plain": [
       "0.0005324367267275198"
      ]
     },
     "execution_count": 19,
     "metadata": {},
     "output_type": "execute_result"
    }
   ],
   "source": [
    "def density(G):\n",
    "    node_users_1 = [u[0] for u in G.edges(data=True)]\n",
    "    node_users_2 = [u[1] for u in G.edges(data=True)]\n",
    "    num_nodes = len(set(node_users_1 + node_users_2))\n",
    "    num_edges = len([a for a in G.edges(data=True)]) # The number of edges is equal to total rows in dataframe\n",
    "    D = (num_edges) / ((num_nodes-1)*num_nodes)\n",
    "    return D\n",
    "density(G)"
   ]
  },
  {
   "cell_type": "code",
   "execution_count": 20,
   "metadata": {},
   "outputs": [
    {
     "data": {
      "text/plain": [
       "'Sparse Graph'"
      ]
     },
     "execution_count": 20,
     "metadata": {},
     "output_type": "execute_result"
    }
   ],
   "source": [
    "def check_dense(G):\n",
    "    if density(G)<=0.5:\n",
    "        return(\"Sparse Graph\")\n",
    "    else:\n",
    "        return(\"Dense Graph\")\n",
    "check_dense(G)"
   ]
  },
  {
   "cell_type": "markdown",
   "metadata": {},
   "source": [
    "### Functionality 2 - Find the best users!\n",
    "It takes in input:\n",
    "\n",
    "A user/node \\\n",
    "An interval of time \\\n",
    "One of the following metrics: Betweeness 1, PageRank, ClosenessCentrality 3, DegreeCentrality \\\n",
    "The output should return:\n",
    "\n",
    "The value of the given metric applied over the complete graph for the given interval of time \\\n",
    "Give an explanaition regarding the features of the user based on all of the metrics (e.g. if the betweeness metric is high, what does this mean in practice, what if the betweeness is low but it has a high PageRank value, etc.)"
   ]
  },
  {
   "cell_type": "code",
   "execution_count": 21,
   "metadata": {},
   "outputs": [],
   "source": [
    "def remove_edges(G, interval):\n",
    "    \"\"\"\n",
    "    Remove all the edges that are not in the specified interval\n",
    "    :param G:\n",
    "    :param interval:\n",
    "    :return:\n",
    "    \"\"\"\n",
    "    H = G.copy()\n",
    "    t0 = interval[0]\n",
    "    t1 = interval[1]\n",
    "    selected_nodes = [(u, v, e) for u, v, e in H.edges(data=True) if (int(e['t']) < t0 or t1 < int(e['t']))]\n",
    "\n",
    "    for triplet in selected_nodes:\n",
    "        e = triplet[2]\n",
    "        u = triplet[0]\n",
    "        v = triplet[1]\n",
    "\n",
    "        if int(e['t']) < t0 or t1 < int(e['t']):\n",
    "            H.remove_edge(u, v)\n",
    "    return H"
   ]
  },
  {
   "cell_type": "code",
   "execution_count": 22,
   "metadata": {},
   "outputs": [],
   "source": [
    "# Functionality 2\n",
    "def degree_centrality(G, interval):\n",
    "    \"\"\"\n",
    "\n",
    "    :param G: graph\n",
    "    :return: the degree centrality of G (The number of edges in the graph)\n",
    "    \"\"\"\n",
    "\n",
    "    H = filter_time(G, interval)\n",
    "\n",
    "    return H.number_of_edges()\n",
    "\n",
    "\n",
    "# print(G.number_of_edges())"
   ]
  },
  {
   "cell_type": "markdown",
   "metadata": {},
   "source": [
    "### Functionality 3 - Shortest Ordered Route"
   ]
  },
  {
   "cell_type": "code",
   "execution_count": 24,
   "metadata": {},
   "outputs": [],
   "source": [
    "# Functionality 3\n",
    "\n",
    "def dijkstra(G, n1, n2=None):\n",
    "    \"\"\"\n",
    "    Dijkstra algorithm\n",
    "    :param G: graph\n",
    "    :param n1: Starting node\n",
    "    :param n2:\n",
    "    :return: list with shortest distances to all other nodes from node n1\n",
    "    \"\"\"\n",
    "    pq = PriorityQueue()\n",
    "    elements = [(u, v, e) for u, v, e in G.edges(data=True)]\n",
    "    weights = {}\n",
    "\n",
    "    for element in elements:\n",
    "        weights[(element[0], element[1])] = element[2]['weight']\n",
    "\n",
    "    shortest_paths = {}\n",
    "    for n in G.nodes:\n",
    "        shortest_paths[n] = float('inf')\n",
    "    # print('Weights: ', weights)\n",
    "    # print('Shortest paths: ', shortest_paths)\n",
    "\n",
    "    visited = []\n",
    "\n",
    "    shortest_paths[n1] = 0\n",
    "\n",
    "    pq.put((0, n1))\n",
    "\n",
    "    while not pq.empty():\n",
    "        (weight, n) = pq.get()\n",
    "        visited.append(n)\n",
    "        neighbours = G.out_edges(n)\n",
    "\n",
    "        for neighbour_pair in neighbours:\n",
    "            neighbour = neighbour_pair[1]\n",
    "            if neighbour not in visited:\n",
    "                weight = weights[(n, neighbour)]\n",
    "                old_cost = shortest_paths[neighbour]  # Old shortest path to that node\n",
    "                new_cost = shortest_paths[n] + weight\n",
    "                if new_cost < old_cost:\n",
    "                    pq.put((new_cost, neighbour))\n",
    "                    shortest_paths[neighbour] = new_cost\n",
    "    return shortest_paths[n2]\n"
   ]
  },
  {
   "cell_type": "code",
   "execution_count": 25,
   "metadata": {},
   "outputs": [],
   "source": [
    "def is_in(t, t1, t2):\n",
    "    \"\"\"\n",
    "    :param t1: start time\n",
    "    :param t2: end time\n",
    "    :param t: timestamp array\n",
    "    :return: whether all timestamps in t are in range [t1, t2]\n",
    "    \"\"\"\n",
    "    return sum([1 if int(t1) <= int(tj) <= int(t2) else 0 for tj in t]) == len(t)"
   ]
  },
  {
   "cell_type": "code",
   "execution_count": 26,
   "metadata": {},
   "outputs": [],
   "source": [
    "def filter_time(G, interval):\n",
    "    H = G.copy()\n",
    "    t1 = interval[0]\n",
    "    t2 = interval[1]\n",
    "    edges = H.edges(data=True)\n",
    "\n",
    "    edges_to_remove = []\n",
    "\n",
    "    for edge in edges:\n",
    "        if not is_in(edge[2]['t'], t1, t2):\n",
    "            edges_to_remove.append((edge[0], edge[1]))\n",
    "    for edge_to_remove in edges_to_remove:\n",
    "        H.remove_edge(edge_to_remove[0], edge_to_remove[1])\n",
    "    return H"
   ]
  },
  {
   "cell_type": "code",
   "execution_count": 27,
   "metadata": {},
   "outputs": [],
   "source": [
    "def shortest_walk(G, interval, users, u1, u2):\n",
    "    \"\"\"\n",
    "\n",
    "    :param G: graph\n",
    "    :param interval:  which to consider\n",
    "    :param users: which to consider\n",
    "    :param u1: initial user\n",
    "    :param u2: end user\n",
    "    :return: shortest path\n",
    "    \"\"\"\n",
    "\n",
    "    # 1. Check the interval of time.\n",
    "    H = filter_time(G, interval)\n",
    "    # 2. Consider the sequence of users.\n",
    "    all_users = [u1, *users, u2]\n",
    "    distance = 0\n",
    "    for i in range(len(all_users)):\n",
    "        end = i == len(all_users) - 1\n",
    "        if not end:\n",
    "            u1 = all_users[i]\n",
    "            u2 = all_users[i + 1]\n",
    "            shortest_distance = dijkstra(H, n1=u1, n2=u2)\n",
    "            distance += shortest_distance\n",
    "    if distance == float('inf'):\n",
    "        return 'Not possible'\n",
    "    return distance\n"
   ]
  },
  {
   "cell_type": "code",
   "execution_count": 28,
   "metadata": {},
   "outputs": [
    {
     "name": "stdout",
     "output_type": "stream",
     "text": [
      "G1 num edges: 25038\n",
      "G1_time_filtered num edges: 9514\n",
      "Running dijkstra...\n",
      "1\n",
      "Total cost is:  8\n",
      "Degree centrality:  25038\n"
     ]
    }
   ],
   "source": [
    "# Initial_filtering\n",
    "print(f'G1 num edges: {G1.number_of_edges()}')\n",
    "initial_filter = ['1221373607', '1223004802']\n",
    "G1_time_filtered = filter_time(G1, initial_filter)\n",
    "print(f'G1_time_filtered num edges: {G1_time_filtered.number_of_edges()}')\n",
    "\n",
    "print('Running dijkstra...')\n",
    "print(dijkstra(G1, n1='9', n2='8'))\n",
    "#\n",
    "t = ['1201373607', '1317618183']  # Time interval\n",
    "print('Total cost is: ', shortest_walk(G1, interval=t, u1='22', users=['26', '58', '192', '258', '12791'], u2='15353'))\n",
    "print('Degree centrality: ', degree_centrality(G1, t))"
   ]
  },
  {
   "cell_type": "markdown",
   "metadata": {},
   "source": [
    "## 3. Implementation of the frontend"
   ]
  },
  {
   "cell_type": "markdown",
   "metadata": {},
   "source": [
    "### Visualization 1 - Visualize the overall features of the graph\n",
    "\n",
    "Output a table with all of the information requested. The visualization also generates a plot of the density distribution of the graph provided as input."
   ]
  },
  {
   "cell_type": "code",
   "execution_count": 29,
   "metadata": {},
   "outputs": [
    {
     "data": {
      "text/plain": [
       "422"
      ]
     },
     "execution_count": 29,
     "metadata": {},
     "output_type": "execute_result"
    }
   ],
   "source": [
    "initial_filter_1 = ['1221373607', '1223004802']\n",
    "G2 = filter_time(G1, initial_filter_1)\n",
    "initial_filter_2 = [\"1221014091\",'1221167127']\n",
    "G3 = filter_time(G1, initial_filter_2)\n",
    "G3.number_of_edges()"
   ]
  },
  {
   "cell_type": "code",
   "execution_count": 30,
   "metadata": {},
   "outputs": [
    {
     "data": {
      "text/plain": [
       "8782"
      ]
     },
     "execution_count": 30,
     "metadata": {},
     "output_type": "execute_result"
    }
   ],
   "source": [
    "num_of_answers(G)"
   ]
  },
  {
   "cell_type": "code",
   "execution_count": 31,
   "metadata": {},
   "outputs": [
    {
     "name": "stdout",
     "output_type": "stream",
     "text": [
      "╒═════════╤════════════════╤══════════════════╤═══════════════════╤══════════════════════╤═════════════╤══════════════════╕\n",
      "│         │   Num of users │   Num of answers │   Num of comments │   Avg links per user │     Density │ Checking dense   │\n",
      "╞═════════╪════════════════╪══════════════════╪═══════════════════╪══════════════════════╪═════════════╪══════════════════╡\n",
      "│ Graph_1 │           6858 │                0 │                 0 │              7.30184 │ 0.000532437 │ Sparse Graph     │\n",
      "├─────────┼────────────────┼──────────────────┼───────────────────┼──────────────────────┼─────────────┼──────────────────┤\n",
      "│ Graph_2 │           4362 │                0 │                 0 │              4.36222 │ 0.00050014  │ Sparse Graph     │\n",
      "├─────────┼────────────────┼──────────────────┼───────────────────┼──────────────────────┼─────────────┼──────────────────┤\n",
      "│ Graph_3 │            398 │                0 │                 0 │              2.1206  │ 0.00267078  │ Sparse Graph     │\n",
      "╘═════════╧════════════════╧══════════════════╧═══════════════════╧══════════════════════╧═════════════╧══════════════════╛\n"
     ]
    }
   ],
   "source": [
    "data = [[\"Graph_1\",num_of_users(G1), num_of_answers(G1),num_of_comments(G1),Avg_links_per_user(G1),density(G1),check_dense(G1)], \n",
    "        [\"Graph_2\",num_of_users(G2), num_of_answers(G2),num_of_comments(G2),Avg_links_per_user(G2),density(G2),check_dense(G2)],\n",
    "        [\"Graph_3\",num_of_users(G3), num_of_answers(G3),num_of_comments(G3),Avg_links_per_user(G3),density(G3),check_dense(G3)]]\n",
    "\n",
    "headers=[\"Num of users\",\"Num of answers\",\"Num of comments\",\"Avg links per user\",\"Density\",\"Checking dense\"]\n",
    "print(tabulate(data,headers = headers, tablefmt='fancy_grid'))"
   ]
  },
  {
   "cell_type": "code",
   "execution_count": 32,
   "metadata": {},
   "outputs": [
    {
     "data": {
      "text/html": [
       "<div>\n",
       "<style scoped>\n",
       "    .dataframe tbody tr th:only-of-type {\n",
       "        vertical-align: middle;\n",
       "    }\n",
       "\n",
       "    .dataframe tbody tr th {\n",
       "        vertical-align: top;\n",
       "    }\n",
       "\n",
       "    .dataframe thead th {\n",
       "        text-align: right;\n",
       "    }\n",
       "</style>\n",
       "<table border=\"1\" class=\"dataframe\">\n",
       "  <thead>\n",
       "    <tr style=\"text-align: right;\">\n",
       "      <th></th>\n",
       "      <th>num_edges_list</th>\n",
       "      <th>num_nodes</th>\n",
       "      <th>density</th>\n",
       "    </tr>\n",
       "  </thead>\n",
       "  <tbody>\n",
       "    <tr>\n",
       "      <th>0</th>\n",
       "      <td>1</td>\n",
       "      <td>2</td>\n",
       "      <td>0.500000</td>\n",
       "    </tr>\n",
       "    <tr>\n",
       "      <th>1</th>\n",
       "      <td>2</td>\n",
       "      <td>3</td>\n",
       "      <td>0.333333</td>\n",
       "    </tr>\n",
       "    <tr>\n",
       "      <th>2</th>\n",
       "      <td>3</td>\n",
       "      <td>4</td>\n",
       "      <td>0.250000</td>\n",
       "    </tr>\n",
       "    <tr>\n",
       "      <th>3</th>\n",
       "      <td>4</td>\n",
       "      <td>5</td>\n",
       "      <td>0.200000</td>\n",
       "    </tr>\n",
       "    <tr>\n",
       "      <th>4</th>\n",
       "      <td>5</td>\n",
       "      <td>6</td>\n",
       "      <td>0.166667</td>\n",
       "    </tr>\n",
       "    <tr>\n",
       "      <th>...</th>\n",
       "      <td>...</td>\n",
       "      <td>...</td>\n",
       "      <td>...</td>\n",
       "    </tr>\n",
       "    <tr>\n",
       "      <th>25033</th>\n",
       "      <td>25034</td>\n",
       "      <td>10437</td>\n",
       "      <td>0.000230</td>\n",
       "    </tr>\n",
       "    <tr>\n",
       "      <th>25034</th>\n",
       "      <td>25035</td>\n",
       "      <td>10439</td>\n",
       "      <td>0.000230</td>\n",
       "    </tr>\n",
       "    <tr>\n",
       "      <th>25035</th>\n",
       "      <td>25036</td>\n",
       "      <td>10440</td>\n",
       "      <td>0.000230</td>\n",
       "    </tr>\n",
       "    <tr>\n",
       "      <th>25036</th>\n",
       "      <td>25037</td>\n",
       "      <td>10441</td>\n",
       "      <td>0.000230</td>\n",
       "    </tr>\n",
       "    <tr>\n",
       "      <th>25037</th>\n",
       "      <td>25038</td>\n",
       "      <td>10442</td>\n",
       "      <td>0.000230</td>\n",
       "    </tr>\n",
       "  </tbody>\n",
       "</table>\n",
       "<p>25038 rows × 3 columns</p>\n",
       "</div>"
      ],
      "text/plain": [
       "       num_edges_list  num_nodes   density\n",
       "0                   1          2  0.500000\n",
       "1                   2          3  0.333333\n",
       "2                   3          4  0.250000\n",
       "3                   4          5  0.200000\n",
       "4                   5          6  0.166667\n",
       "...               ...        ...       ...\n",
       "25033           25034      10437  0.000230\n",
       "25034           25035      10439  0.000230\n",
       "25035           25036      10440  0.000230\n",
       "25036           25037      10441  0.000230\n",
       "25037           25038      10442  0.000230\n",
       "\n",
       "[25038 rows x 3 columns]"
      ]
     },
     "execution_count": 32,
     "metadata": {},
     "output_type": "execute_result"
    }
   ],
   "source": [
    "edges = list(G.edges())\n",
    "num_edges_list = [i for i in range(1,len(edges)+1)]\n",
    "num_nodes =[]\n",
    "for x in range(1,len(edges)+1):\n",
    "    node_users_1 = [u[0] for u in edges[:x]]\n",
    "    node_users_2 = [u[1] for u in edges[:x]]\n",
    "    num_node = len(set(node_users_1)) + len(set(node_users_2))\n",
    "    num_nodes.append(num_node)\n",
    "\n",
    "dense_df = pd.DataFrame()\n",
    "dense_df[\"num_edges_list\"] = num_edges_list\n",
    "dense_df[\"num_nodes\"] = num_nodes\n",
    "dense_df[\"density\"] = dense_df[\"num_edges_list\"] / ((dense_df[\"num_nodes\"]-1)*(dense_df[\"num_nodes\"]))\n",
    "dense_df"
   ]
  },
  {
   "cell_type": "code",
   "execution_count": 33,
   "metadata": {},
   "outputs": [
    {
     "data": {
      "image/png": "[encoded data removed]",
      "text/plain": [
       "<Figure size 432x288 with 1 Axes>"
      ]
     },
     "metadata": {
      "needs_background": "light"
     },
     "output_type": "display_data"
    }
   ],
   "source": [
    "plt.plot(dense_df[\"num_nodes\"],dense_df[\"density\"])\n",
    "plt.title('Density change according to node')\n",
    "plt.xlabel('Number of nodes')\n",
    "plt.ylabel('Density')\n",
    "plt.show()"
   ]
  },
  {
   "cell_type": "code",
   "execution_count": 34,
   "metadata": {},
   "outputs": [
    {
     "data": {
      "text/plain": [
       "<seaborn.axisgrid.FacetGrid at 0x7f3b90668b50>"
      ]
     },
     "execution_count": 34,
     "metadata": {},
     "output_type": "execute_result"
    },
    {
     "data": {
      "image/png": "[encoded data removed]",
      "text/plain": [
       "<Figure size 360x360 with 1 Axes>"
      ]
     },
     "metadata": {
      "needs_background": "light"
     },
     "output_type": "display_data"
    }
   ],
   "source": [
    "sns.displot(data=dense_df, x=\"num_nodes\", kind=\"kde\").set(xlim=(0,20))"
   ]
  },
  {
   "cell_type": "code",
   "execution_count": null,
   "metadata": {},
   "outputs": [],
   "source": [
    "#Functionality 4"
   ]
  },
  {
   "cell_type": "code",
   "execution_count": 35,
   "metadata": {},
   "outputs": [],
   "source": [
    "def kids_split():\n",
    "    room1 = [] # for storing list of kids in first room\n",
    "    room2 = [] # for storing list of kids in first room\n",
    "    set1 = [] # for storing the another pair of kids which are figthing\n",
    "    set2 = [] # for storing the another pair of kids which are figthing\n",
    "\n",
    "    for i in Pairs: \n",
    "        \n",
    "        if i[0] in room1: # check if the first kid of pairs exist in room 1\n",
    "            if i[1] in set2: # check if any another kid exists in room 2 which are figthing\n",
    "                print(\"No combination, Cant split kids\") \n",
    "                \n",
    "            else:\n",
    "                room2.append(i[1]) # if firs pair is in room1 then add second one to room2\n",
    "                set2.append(i[0]) # add kid to list for room2\n",
    "                set1.append(i[1]) # add another kid to list for room1\n",
    "                \n",
    "\n",
    "        elif i[0] in room2: #  if firs pair is not in room1 then search in room 2\n",
    "            if i[1] in set1: #also in pair list\n",
    "                print(\"No combination, Cant split kids\")\n",
    "                \n",
    "            else:\n",
    "                room1.append(i[1]) # if firs pair is in room2 then add another pair to room1\n",
    "                set1.append(i[0]) # add kid to list for room1\n",
    "                set2.append(i[1]) # add another kid to list for room2\n",
    "                \n",
    "\n",
    "        elif i[1] in room1: #if first kid is not exist in any room the look up second kid\n",
    "            if i[0] in set2: # also in pair list\n",
    "                print(\"No combination, Cant split kids\")\n",
    "                \n",
    "            else:\n",
    "                room2.append(i[0]) #if second kid exist in room 1 then add first kid to room2\n",
    "                set2.append(i[1]) #add kid name to the list for room2\n",
    "                set1.append(i[0]) #add another kid name to the list for room1\n",
    "                \n",
    "\n",
    "        elif i[1] in room2: #if second kid is not exist in room 1 then search in room2\n",
    "            if i[0] in set1: # also in pair list\n",
    "                print(\"No combination, Cant split kids\")\n",
    "                \n",
    "            else:\n",
    "                room1.append(i[0]) #if second kid exist in room 2 then add first kid to room1\n",
    "                set1.append(i[1]) # add second kid name to the list for room1\n",
    "                set2.append(i[0]) # add first kid name to the list for room2 \n",
    "                \n",
    "\n",
    "        else:  # if both of the kids is not in room1 and room2 \n",
    "            room1.append(i[0]) # split first kid to room 1\n",
    "            set1.append(i[1]) #add Second kid name to the list for room 1\n",
    "            room2.append(i[1]) # split second kid to room 2\n",
    "            set2.append(i[0]) #add first kid name to the list for room 2\n",
    "            \n",
    "            \n",
    "            \n",
    "    for j in Students: #add rest of kids to room1 no space limit\n",
    "        if j not in room1 and j not in room2:\n",
    "            room1.append(j)\n",
    "            \n",
    "\n",
    "    print(\"Reccomended Assignment to 1st Room: \", room1)\n",
    "    print(\"Reccomended Assignment to 2nd Room: \", room2)"
   ]
  },
  {
   "cell_type": "code",
   "execution_count": 36,
   "metadata": {},
   "outputs": [
    {
     "name": "stdout",
     "output_type": "stream",
     "text": [
      "No combination, Cant split kids\n",
      "Reccomended Assignment to 1st Room:  ['Aqil', 'Fariz', 'Seymur', 'Gunes', 'Hasan']\n",
      "Reccomended Assignment to 2nd Room:  ['Dilan']\n"
     ]
    }
   ],
   "source": [
    "Students = ['Aqil', 'Seymur', 'Dilan', 'Fariz', 'Gunes', 'Hasan']\n",
    "Pairs = [['Aqil', 'Dilan'], ['Dilan', 'Fariz'], ['Aqil', 'Fariz']]\n",
    "kids_split()"
   ]
  },
  {
   "cell_type": "code",
   "execution_count": 37,
   "metadata": {},
   "outputs": [
    {
     "name": "stdout",
     "output_type": "stream",
     "text": [
      "Reccomended Assignment to 1st Room:  ['Aqil', 'Fariz', 'Gunes', 'Seymur']\n",
      "Reccomended Assignment to 2nd Room:  ['Dilan', 'Hasan']\n"
     ]
    }
   ],
   "source": [
    "Kids = ['Aqil', 'Seymur', 'Dilan', 'Fariz', 'Gunes', 'Hasan']\n",
    "Pairs = [['Aqil', 'Dilan'], ['Dilan', 'Fariz'], ['Gunes', 'Hasan']]\n",
    "kids_split()"
   ]
  },
  {
   "cell_type": "code",
   "execution_count": 38,
   "metadata": {},
   "outputs": [
    {
     "name": "stdout",
     "output_type": "stream",
     "text": [
      "Reccomended Assignment to 1st Room:  ['Aqil', 'Fariz', 'Gunes', 'Atilla', 'Seymur']\n",
      "Reccomended Assignment to 2nd Room:  ['Dilan', 'Hasan']\n"
     ]
    }
   ],
   "source": [
    "Kids = ['Aqil', 'Seymur', 'Dilan', 'Fariz', 'Gunes', 'Hasan', 'Elgun', 'Atilla']\n",
    "Pairs = [['Aqil', 'Dilan'], ['Dilan', 'Fariz'], ['Gunes', 'Hasan'],['Hasan','Atilla']]\n",
    "kids_split()"
   ]
  },
  {
   "cell_type": "code",
   "execution_count": 39,
   "metadata": {},
   "outputs": [
    {
     "name": "stdout",
     "output_type": "stream",
     "text": [
      "Reccomended Assignment to 1st Room:  ['Aqil', 'Fariz', 'Gunes', 'Atilla', 'Tural', 'Seymur']\n",
      "Reccomended Assignment to 2nd Room:  ['Dilan', 'Hasan', 'Fuad']\n"
     ]
    }
   ],
   "source": [
    "Kids = ['Aqil', 'Seymur', 'Dilan', 'Fariz', 'Gunes', 'Hasan', 'Elgun', 'Atilla','Tural','Fuad']\n",
    "Pairs = [['Aqil', 'Dilan'], ['Dilan', 'Fariz'], ['Gunes', 'Hasan'],['Hasan','Atilla'],['Tural','Fuad']]\n",
    "kids_split()"
   ]
  }
 ],
 "metadata": {
  "kernelspec": {
   "display_name": "Python 3",
   "language": "python",
   "name": "python3"
  },
  "language_info": {
   "codemirror_mode": {
    "name": "ipython",
    "version": 3
   },
   "file_extension": ".py",
   "mimetype": "text/x-python",
   "name": "python",
   "nbconvert_exporter": "python",
   "pygments_lexer": "ipython3",
   "version": "3.8.10"
  }
 },
 "nbformat": 4,
 "nbformat_minor": 4
}
